{
 "cells": [
  {
   "cell_type": "code",
   "execution_count": 105,
   "id": "c6428f9d",
   "metadata": {},
   "outputs": [],
   "source": [
    "import numpy as np\n",
    "from sklearn import datasets\n",
    "from sklearn.preprocessing import StandardScaler\n",
    "from sklearn.model_selection import train_test_split\n",
    "from sklearn.metrics import mean_squared_error,accuracy_score,classification_report\n",
    "import matplotlib.pyplot as plt\n",
    "import torch.nn.functional as F\n",
    "import torch\n",
    "import torch.nn as nn\n",
    "import torch.optim as optim\n",
    "from torch.utils.data import TensorDataset, DataLoader\n",
    "import pandas"
   ]
  },
  {
   "cell_type": "code",
   "execution_count": 106,
   "id": "0a386c10",
   "metadata": {},
   "outputs": [
    {
     "data": {
      "text/plain": [
       "(768, 8)"
      ]
     },
     "execution_count": 106,
     "metadata": {},
     "output_type": "execute_result"
    }
   ],
   "source": [
    "# CHOOSE DATASET\n",
    "\n",
    "# Regression dataset\n",
    "#data = datasets.load_diabetes(as_frame=True)\n",
    "\n",
    "# Classification dataset\n",
    "data = datasets.fetch_openml(\"diabetes\",version=1, as_frame=True) \n",
    "\n",
    "X = data.data.values\n",
    "y = data.target.values \n",
    "\n",
    "# Converter labels em binário (0 = negativo, 1 = positivo) (só usado em classification)\n",
    "y= np.array([1 if val == \"tested_positive\" else 0 for val in y])\n",
    "\n",
    "# Converter para tensor PyTorch (coluna) ( só usado em classification)\n",
    "y = torch.tensor(y, dtype=torch.float32).reshape(-1, 1)\n",
    "\n",
    "\n",
    "X.shape"
   ]
  },
  {
   "cell_type": "code",
   "execution_count": 107,
   "id": "aafa6216",
   "metadata": {},
   "outputs": [],
   "source": [
    "#train test spliting\n",
    "test_size=0.2\n",
    "Xtr, Xte, ytr, yte = train_test_split(X, y, test_size=test_size, random_state=42)"
   ]
  },
  {
   "cell_type": "code",
   "execution_count": 108,
   "id": "2dfc9566",
   "metadata": {},
   "outputs": [],
   "source": [
    "# Standardize features\n",
    "scaler=StandardScaler()\n",
    "Xtr= scaler.fit_transform(Xtr)\n",
    "Xte= scaler.transform(Xte)"
   ]
  },
  {
   "cell_type": "code",
   "execution_count": 109,
   "id": "99c0966d",
   "metadata": {},
   "outputs": [],
   "source": [
    "class MLP(nn.Module):\n",
    "    def __init__(self, input_size, output_size=1, dropout_prob=0.5):\n",
    "        super(MLP, self).__init__()\n",
    "        \n",
    "        self.fc1 = nn.Linear(input_size, 64)\n",
    "        self.fc2 = nn.Linear(64, 64)\n",
    "        self.fc3 = nn.Linear(64, 64)\n",
    "        self.fc4 = nn.Linear(64, 64)\n",
    "        self.out = nn.Linear(64, output_size)\n",
    "        \n",
    "        self.dropout = nn.Dropout(p=dropout_prob)\n",
    "        \n",
    "    def forward(self, x):\n",
    "        x = F.relu(self.fc1(x))\n",
    "        x = self.dropout(x)\n",
    "        \n",
    "        x = F.relu(self.fc2(x))\n",
    "        x = self.dropout(x)\n",
    "        \n",
    "        x = F.relu(self.fc3(x))\n",
    "        x = self.dropout(x)\n",
    "        \n",
    "        x = F.relu(self.fc4(x))\n",
    "        x = self.dropout(x)\n",
    "        \n",
    "        x = self.out(x)\n",
    "        return x"
   ]
  },
  {
   "cell_type": "code",
   "execution_count": 110,
   "id": "2ab972de",
   "metadata": {},
   "outputs": [],
   "source": [
    "num_epochs=100\n",
    "lr=0.00025\n",
    "dropout=0.1\n",
    "batch_size=64"
   ]
  },
  {
   "cell_type": "code",
   "execution_count": 111,
   "id": "49298ada",
   "metadata": {},
   "outputs": [
    {
     "name": "stderr",
     "output_type": "stream",
     "text": [
      "C:\\Users\\Murtaghy\\AppData\\Local\\Temp\\ipykernel_17000\\3341141645.py:2: UserWarning: To copy construct from a tensor, it is recommended to use sourceTensor.detach().clone() or sourceTensor.detach().clone().requires_grad_(True), rather than torch.tensor(sourceTensor).\n",
      "  ytr = torch.tensor(ytr, dtype=torch.float32)\n",
      "C:\\Users\\Murtaghy\\AppData\\Local\\Temp\\ipykernel_17000\\3341141645.py:4: UserWarning: To copy construct from a tensor, it is recommended to use sourceTensor.detach().clone() or sourceTensor.detach().clone().requires_grad_(True), rather than torch.tensor(sourceTensor).\n",
      "  yte = torch.tensor(yte, dtype=torch.float32)\n"
     ]
    }
   ],
   "source": [
    "Xtr = torch.tensor(Xtr, dtype=torch.float32)\n",
    "ytr = torch.tensor(ytr, dtype=torch.float32)\n",
    "Xte = torch.tensor(Xte, dtype=torch.float32)\n",
    "yte = torch.tensor(yte, dtype=torch.float32)\n",
    "\n",
    "# Wrap Xtr and ytr into a dataset\n",
    "train_dataset = TensorDataset(Xtr, ytr)\n",
    "\n",
    "# Create DataLoader\n",
    "train_dataloader = DataLoader(train_dataset, batch_size=batch_size, shuffle=True)"
   ]
  },
  {
   "cell_type": "code",
   "execution_count": 112,
   "id": "8e649c6f",
   "metadata": {},
   "outputs": [],
   "source": [
    "# Model, Loss, Optimizer\n",
    "device = torch.device(\"cuda\" if torch.cuda.is_available() else \"cpu\")\n",
    "\n",
    "model = MLP(input_size=Xtr.shape[1], dropout_prob=dropout).to(device)\n",
    "criterion = nn.BCEWithLogitsLoss()  # for binary classification\n",
    "criterion = nn.MSELoss() #for regression\n",
    "optimizer = optim.Adam(model.parameters(), lr=lr)"
   ]
  },
  {
   "cell_type": "code",
   "execution_count": 113,
   "id": "e02dec66",
   "metadata": {},
   "outputs": [
    {
     "name": "stdout",
     "output_type": "stream",
     "text": [
      "Epoch [1/100], Loss: 0.2716\n",
      "Epoch [2/100], Loss: 0.2480\n",
      "Epoch [3/100], Loss: 0.2309\n",
      "Epoch [4/100], Loss: 0.2135\n",
      "Epoch [5/100], Loss: 0.2027\n",
      "Epoch [6/100], Loss: 0.1948\n",
      "Epoch [7/100], Loss: 0.1877\n",
      "Epoch [8/100], Loss: 0.1765\n",
      "Epoch [9/100], Loss: 0.1717\n",
      "Epoch [10/100], Loss: 0.1659\n",
      "Epoch [11/100], Loss: 0.1676\n",
      "Epoch [12/100], Loss: 0.1665\n",
      "Epoch [13/100], Loss: 0.1620\n",
      "Epoch [14/100], Loss: 0.1599\n",
      "Epoch [15/100], Loss: 0.1559\n",
      "Epoch [16/100], Loss: 0.1575\n",
      "Epoch [17/100], Loss: 0.1509\n",
      "Epoch [18/100], Loss: 0.1586\n",
      "Epoch [19/100], Loss: 0.1562\n",
      "Epoch [20/100], Loss: 0.1522\n",
      "Epoch [21/100], Loss: 0.1603\n",
      "Epoch [22/100], Loss: 0.1532\n",
      "Epoch [23/100], Loss: 0.1576\n",
      "Epoch [24/100], Loss: 0.1461\n",
      "Epoch [25/100], Loss: 0.1510\n",
      "Epoch [26/100], Loss: 0.1503\n",
      "Epoch [27/100], Loss: 0.1491\n",
      "Epoch [28/100], Loss: 0.1480\n",
      "Epoch [29/100], Loss: 0.1485\n",
      "Epoch [30/100], Loss: 0.1470\n",
      "Epoch [31/100], Loss: 0.1454\n",
      "Epoch [32/100], Loss: 0.1447\n",
      "Epoch [33/100], Loss: 0.1517\n",
      "Epoch [34/100], Loss: 0.1474\n",
      "Epoch [35/100], Loss: 0.1474\n",
      "Epoch [36/100], Loss: 0.1424\n",
      "Epoch [37/100], Loss: 0.1449\n",
      "Epoch [38/100], Loss: 0.1463\n",
      "Epoch [39/100], Loss: 0.1415\n",
      "Epoch [40/100], Loss: 0.1451\n",
      "Epoch [41/100], Loss: 0.1446\n",
      "Epoch [42/100], Loss: 0.1374\n",
      "Epoch [43/100], Loss: 0.1425\n",
      "Epoch [44/100], Loss: 0.1435\n",
      "Epoch [45/100], Loss: 0.1452\n",
      "Epoch [46/100], Loss: 0.1421\n",
      "Epoch [47/100], Loss: 0.1374\n",
      "Epoch [48/100], Loss: 0.1394\n",
      "Epoch [49/100], Loss: 0.1401\n",
      "Epoch [50/100], Loss: 0.1366\n",
      "Epoch [51/100], Loss: 0.1392\n",
      "Epoch [52/100], Loss: 0.1333\n",
      "Epoch [53/100], Loss: 0.1425\n",
      "Epoch [54/100], Loss: 0.1392\n",
      "Epoch [55/100], Loss: 0.1408\n",
      "Epoch [56/100], Loss: 0.1363\n",
      "Epoch [57/100], Loss: 0.1356\n",
      "Epoch [58/100], Loss: 0.1311\n",
      "Epoch [59/100], Loss: 0.1407\n",
      "Epoch [60/100], Loss: 0.1353\n",
      "Epoch [61/100], Loss: 0.1369\n",
      "Epoch [62/100], Loss: 0.1342\n",
      "Epoch [63/100], Loss: 0.1321\n",
      "Epoch [64/100], Loss: 0.1388\n",
      "Epoch [65/100], Loss: 0.1331\n",
      "Epoch [66/100], Loss: 0.1270\n",
      "Epoch [67/100], Loss: 0.1354\n",
      "Epoch [68/100], Loss: 0.1305\n",
      "Epoch [69/100], Loss: 0.1311\n",
      "Epoch [70/100], Loss: 0.1300\n",
      "Epoch [71/100], Loss: 0.1393\n",
      "Epoch [72/100], Loss: 0.1280\n",
      "Epoch [73/100], Loss: 0.1321\n",
      "Epoch [74/100], Loss: 0.1247\n",
      "Epoch [75/100], Loss: 0.1295\n",
      "Epoch [76/100], Loss: 0.1266\n",
      "Epoch [77/100], Loss: 0.1310\n",
      "Epoch [78/100], Loss: 0.1285\n",
      "Epoch [79/100], Loss: 0.1258\n",
      "Epoch [80/100], Loss: 0.1234\n",
      "Epoch [81/100], Loss: 0.1267\n",
      "Epoch [82/100], Loss: 0.1256\n",
      "Epoch [83/100], Loss: 0.1265\n",
      "Epoch [84/100], Loss: 0.1329\n",
      "Epoch [85/100], Loss: 0.1294\n",
      "Epoch [86/100], Loss: 0.1254\n",
      "Epoch [87/100], Loss: 0.1277\n",
      "Epoch [88/100], Loss: 0.1247\n",
      "Epoch [89/100], Loss: 0.1250\n",
      "Epoch [90/100], Loss: 0.1257\n",
      "Epoch [91/100], Loss: 0.1237\n",
      "Epoch [92/100], Loss: 0.1197\n",
      "Epoch [93/100], Loss: 0.1231\n",
      "Epoch [94/100], Loss: 0.1203\n",
      "Epoch [95/100], Loss: 0.1194\n",
      "Epoch [96/100], Loss: 0.1234\n",
      "Epoch [97/100], Loss: 0.1226\n",
      "Epoch [98/100], Loss: 0.1161\n",
      "Epoch [99/100], Loss: 0.1196\n",
      "Epoch [100/100], Loss: 0.1181\n"
     ]
    }
   ],
   "source": [
    "# Training loop\n",
    "for epoch in range(num_epochs):\n",
    "    model.train()\n",
    "    epoch_loss = 0.0\n",
    "\n",
    "    for batch_x, batch_y in train_dataloader:\n",
    "        batch_x = batch_x.to(device)\n",
    "        batch_y = batch_y.to(device)\n",
    "\n",
    "        logits = model(batch_x)\n",
    "        loss = criterion(logits, batch_y.view(-1, 1))\n",
    "\n",
    "        optimizer.zero_grad()\n",
    "        loss.backward()\n",
    "        optimizer.step()\n",
    "\n",
    "        epoch_loss += loss.item()\n",
    "\n",
    "    avg_loss = epoch_loss / len(train_dataloader)\n",
    "    print(f\"Epoch [{epoch+1}/{num_epochs}], Loss: {avg_loss:.4f}\")"
   ]
  },
  {
   "cell_type": "code",
   "execution_count": 114,
   "id": "dc271f10",
   "metadata": {},
   "outputs": [
    {
     "name": "stdout",
     "output_type": "stream",
     "text": [
      "ACC:0.7337662337662337\n"
     ]
    }
   ],
   "source": [
    "y_pred=model(Xte)\n",
    "print(f'ACC:{accuracy_score(yte.detach().numpy(),y_pred.detach().numpy()>0.5)}') #classification\n",
    "#print(f'MSE:{mean_squared_error(yte.detach().numpy(),y_pred.detach().numpy())}') #regression"
   ]
  }
 ],
 "metadata": {
  "kernelspec": {
   "display_name": "Python 3",
   "language": "python",
   "name": "python3"
  },
  "language_info": {
   "codemirror_mode": {
    "name": "ipython",
    "version": 3
   },
   "file_extension": ".py",
   "mimetype": "text/x-python",
   "name": "python",
   "nbconvert_exporter": "python",
   "pygments_lexer": "ipython3",
   "version": "3.13.7"
  }
 },
 "nbformat": 4,
 "nbformat_minor": 5
}
